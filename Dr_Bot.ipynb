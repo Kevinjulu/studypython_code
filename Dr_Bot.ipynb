{
  "nbformat": 4,
  "nbformat_minor": 0,
  "metadata": {
    "colab": {
      "name": "Dr Bot",
      "provenance": [],
      "collapsed_sections": [],
      "authorship_tag": "ABX9TyOMcGM8OVGn1+pPkyq8VHTn",
      "include_colab_link": true
    },
    "kernelspec": {
      "name": "python3",
      "display_name": "Python 3"
    }
  },
  "cells": [
    {
      "cell_type": "markdown",
      "metadata": {
        "id": "view-in-github",
        "colab_type": "text"
      },
      "source": [
        "<a href=\"https://colab.research.google.com/github/Kevinjulu/studypython_code/blob/master/Dr_Bot.ipynb\" target=\"_parent\"><img src=\"https://colab.research.google.com/assets/colab-badge.svg\" alt=\"Open In Colab\"/></a>"
      ]
    },
    {
      "cell_type": "code",
      "metadata": {
        "id": "kEGKci_ZF0Sy",
        "colab_type": "code",
        "colab": {}
      },
      "source": [
        "#Description: This is a smart chatbot "
      ],
      "execution_count": null,
      "outputs": []
    },
    {
      "cell_type": "code",
      "metadata": {
        "id": "3JhUJmlsGCz1",
        "colab_type": "code",
        "colab": {
          "base_uri": "https://localhost:8080/",
          "height": 51
        },
        "outputId": "5defd5cc-d1e8-4749-edc4-9925c7c2e3be"
      },
      "source": [
        "pip install nltk\n"
      ],
      "execution_count": null,
      "outputs": [
        {
          "output_type": "stream",
          "text": [
            "Requirement already satisfied: nltk in /usr/local/lib/python3.6/dist-packages (3.2.5)\n",
            "Requirement already satisfied: six in /usr/local/lib/python3.6/dist-packages (from nltk) (1.15.0)\n"
          ],
          "name": "stdout"
        }
      ]
    },
    {
      "cell_type": "code",
      "metadata": {
        "id": "c_YhgTGwGLSv",
        "colab_type": "code",
        "colab": {
          "base_uri": "https://localhost:8080/",
          "height": 853
        },
        "outputId": "7fd0c6df-e9e8-472a-80c9-fc666c4639f3"
      },
      "source": [
        "pip install newspaper3k"
      ],
      "execution_count": null,
      "outputs": [
        {
          "output_type": "stream",
          "text": [
            "Collecting newspaper3k\n",
            "\u001b[?25l  Downloading https://files.pythonhosted.org/packages/d7/b9/51afecb35bb61b188a4b44868001de348a0e8134b4dfa00ffc191567c4b9/newspaper3k-0.2.8-py3-none-any.whl (211kB)\n",
            "\r\u001b[K     |█▌                              | 10kB 21.2MB/s eta 0:00:01\r\u001b[K     |███                             | 20kB 1.6MB/s eta 0:00:01\r\u001b[K     |████▋                           | 30kB 2.1MB/s eta 0:00:01\r\u001b[K     |██████▏                         | 40kB 1.6MB/s eta 0:00:01\r\u001b[K     |███████▊                        | 51kB 1.9MB/s eta 0:00:01\r\u001b[K     |█████████▎                      | 61kB 2.2MB/s eta 0:00:01\r\u001b[K     |██████████▉                     | 71kB 2.4MB/s eta 0:00:01\r\u001b[K     |████████████▍                   | 81kB 2.7MB/s eta 0:00:01\r\u001b[K     |██████████████                  | 92kB 2.8MB/s eta 0:00:01\r\u001b[K     |███████████████▌                | 102kB 2.7MB/s eta 0:00:01\r\u001b[K     |█████████████████               | 112kB 2.7MB/s eta 0:00:01\r\u001b[K     |██████████████████▋             | 122kB 2.7MB/s eta 0:00:01\r\u001b[K     |████████████████████▏           | 133kB 2.7MB/s eta 0:00:01\r\u001b[K     |█████████████████████▊          | 143kB 2.7MB/s eta 0:00:01\r\u001b[K     |███████████████████████▎        | 153kB 2.7MB/s eta 0:00:01\r\u001b[K     |████████████████████████▉       | 163kB 2.7MB/s eta 0:00:01\r\u001b[K     |██████████████████████████▍     | 174kB 2.7MB/s eta 0:00:01\r\u001b[K     |████████████████████████████    | 184kB 2.7MB/s eta 0:00:01\r\u001b[K     |█████████████████████████████▌  | 194kB 2.7MB/s eta 0:00:01\r\u001b[K     |███████████████████████████████ | 204kB 2.7MB/s eta 0:00:01\r\u001b[K     |████████████████████████████████| 215kB 2.7MB/s \n",
            "\u001b[?25hRequirement already satisfied: Pillow>=3.3.0 in /usr/local/lib/python3.6/dist-packages (from newspaper3k) (7.0.0)\n",
            "Collecting jieba3k>=0.35.1\n",
            "\u001b[?25l  Downloading https://files.pythonhosted.org/packages/a9/cb/2c8332bcdc14d33b0bedd18ae0a4981a069c3513e445120da3c3f23a8aaa/jieba3k-0.35.1.zip (7.4MB)\n",
            "\u001b[K     |████████████████████████████████| 7.4MB 8.5MB/s \n",
            "\u001b[?25hCollecting feedparser>=5.2.1\n",
            "\u001b[?25l  Downloading https://files.pythonhosted.org/packages/91/d8/7d37fec71ff7c9dbcdd80d2b48bcdd86d6af502156fc93846fb0102cb2c4/feedparser-5.2.1.tar.bz2 (192kB)\n",
            "\u001b[K     |████████████████████████████████| 194kB 48.8MB/s \n",
            "\u001b[?25hCollecting cssselect>=0.9.2\n",
            "  Downloading https://files.pythonhosted.org/packages/3b/d4/3b5c17f00cce85b9a1e6f91096e1cc8e8ede2e1be8e96b87ce1ed09e92c5/cssselect-1.1.0-py2.py3-none-any.whl\n",
            "Requirement already satisfied: beautifulsoup4>=4.4.1 in /usr/local/lib/python3.6/dist-packages (from newspaper3k) (4.6.3)\n",
            "Requirement already satisfied: requests>=2.10.0 in /usr/local/lib/python3.6/dist-packages (from newspaper3k) (2.23.0)\n",
            "Collecting tldextract>=2.0.1\n",
            "\u001b[?25l  Downloading https://files.pythonhosted.org/packages/12/cf/d0ff82625e53bd245d6173ce6333d190abbfcd94e4c30e54b4e16b474216/tldextract-2.2.3-py2.py3-none-any.whl (48kB)\n",
            "\u001b[K     |████████████████████████████████| 51kB 7.7MB/s \n",
            "\u001b[?25hRequirement already satisfied: python-dateutil>=2.5.3 in /usr/local/lib/python3.6/dist-packages (from newspaper3k) (2.8.1)\n",
            "Requirement already satisfied: nltk>=3.2.1 in /usr/local/lib/python3.6/dist-packages (from newspaper3k) (3.2.5)\n",
            "Collecting feedfinder2>=0.0.4\n",
            "  Downloading https://files.pythonhosted.org/packages/35/82/1251fefec3bb4b03fd966c7e7f7a41c9fc2bb00d823a34c13f847fd61406/feedfinder2-0.0.4.tar.gz\n",
            "Requirement already satisfied: lxml>=3.6.0 in /usr/local/lib/python3.6/dist-packages (from newspaper3k) (4.2.6)\n",
            "Collecting tinysegmenter==0.3\n",
            "  Downloading https://files.pythonhosted.org/packages/17/82/86982e4b6d16e4febc79c2a1d68ee3b707e8a020c5d2bc4af8052d0f136a/tinysegmenter-0.3.tar.gz\n",
            "Requirement already satisfied: PyYAML>=3.11 in /usr/local/lib/python3.6/dist-packages (from newspaper3k) (3.13)\n",
            "Requirement already satisfied: certifi>=2017.4.17 in /usr/local/lib/python3.6/dist-packages (from requests>=2.10.0->newspaper3k) (2020.6.20)\n",
            "Requirement already satisfied: urllib3!=1.25.0,!=1.25.1,<1.26,>=1.21.1 in /usr/local/lib/python3.6/dist-packages (from requests>=2.10.0->newspaper3k) (1.24.3)\n",
            "Requirement already satisfied: chardet<4,>=3.0.2 in /usr/local/lib/python3.6/dist-packages (from requests>=2.10.0->newspaper3k) (3.0.4)\n",
            "Requirement already satisfied: idna<3,>=2.5 in /usr/local/lib/python3.6/dist-packages (from requests>=2.10.0->newspaper3k) (2.10)\n",
            "Collecting requests-file>=1.4\n",
            "  Downloading https://files.pythonhosted.org/packages/77/86/cdb5e8eaed90796aa83a6d9f75cfbd37af553c47a291cd47bc410ef9bdb2/requests_file-1.5.1-py2.py3-none-any.whl\n",
            "Requirement already satisfied: six>=1.5 in /usr/local/lib/python3.6/dist-packages (from python-dateutil>=2.5.3->newspaper3k) (1.15.0)\n",
            "Building wheels for collected packages: jieba3k, feedparser, feedfinder2, tinysegmenter\n",
            "  Building wheel for jieba3k (setup.py) ... \u001b[?25l\u001b[?25hdone\n",
            "  Created wheel for jieba3k: filename=jieba3k-0.35.1-cp36-none-any.whl size=7398406 sha256=557d19a3d3b7444f6c63b0d2ad0ab7d58cf1148128e5410493639e6a00c59581\n",
            "  Stored in directory: /root/.cache/pip/wheels/83/15/9c/a3f1f67e7f7181170ad37d32e503c35da20627c013f438ed34\n",
            "  Building wheel for feedparser (setup.py) ... \u001b[?25l\u001b[?25hdone\n",
            "  Created wheel for feedparser: filename=feedparser-5.2.1-cp36-none-any.whl size=44939 sha256=fa81275bb3102baae84dd888e16d3d6be2a3877207410aa7cb6308c3268f2750\n",
            "  Stored in directory: /root/.cache/pip/wheels/8c/69/b7/f52763c41c5471df57703a0ef718a32a5e81ee35dcf6d4f97f\n",
            "  Building wheel for feedfinder2 (setup.py) ... \u001b[?25l\u001b[?25hdone\n",
            "  Created wheel for feedfinder2: filename=feedfinder2-0.0.4-cp36-none-any.whl size=3355 sha256=231ba71bc811633bb1ba0bcc80f969b7317eeca087a511efa88d6c3e37100e46\n",
            "  Stored in directory: /root/.cache/pip/wheels/de/03/ca/778e3a7a627e3d98836cc890e7cb40c7575424cfd3340f40ed\n",
            "  Building wheel for tinysegmenter (setup.py) ... \u001b[?25l\u001b[?25hdone\n",
            "  Created wheel for tinysegmenter: filename=tinysegmenter-0.3-cp36-none-any.whl size=13538 sha256=9bc41eb851f6d6b691796cc6bd208e669d81eec74b9f6c4891e7e4b49c194dc8\n",
            "  Stored in directory: /root/.cache/pip/wheels/81/2b/43/a02ede72324dd40cdd7ca53aad718c7710628e91b8b0dc0f02\n",
            "Successfully built jieba3k feedparser feedfinder2 tinysegmenter\n",
            "Installing collected packages: jieba3k, feedparser, cssselect, requests-file, tldextract, feedfinder2, tinysegmenter, newspaper3k\n",
            "Successfully installed cssselect-1.1.0 feedfinder2-0.0.4 feedparser-5.2.1 jieba3k-0.35.1 newspaper3k-0.2.8 requests-file-1.5.1 tinysegmenter-0.3 tldextract-2.2.3\n"
          ],
          "name": "stdout"
        }
      ]
    },
    {
      "cell_type": "code",
      "metadata": {
        "id": "rhuz2FoiGmmc",
        "colab_type": "code",
        "colab": {}
      },
      "source": [
        "#Importing Libraries\n",
        "from newspaper import Article\n",
        "import random\n",
        "import string\n",
        "import nltk\n",
        "from sklearn.feature_extraction.text import CountVectorizer\n",
        "from sklearn.metrics.pairwise import cosine_similarity\n",
        "import numpy as np\n",
        "import warnings\n",
        "warnings.filterwarnings('ignore')"
      ],
      "execution_count": null,
      "outputs": []
    },
    {
      "cell_type": "code",
      "metadata": {
        "id": "CgxXRPsrI9IV",
        "colab_type": "code",
        "colab": {
          "base_uri": "https://localhost:8080/",
          "height": 34
        },
        "outputId": "e251690d-c4c5-4ea1-b6b3-80ac4767d119"
      },
      "source": [
        "#Download punk package\n",
        "nltk.download('punkt', quiet=True)"
      ],
      "execution_count": null,
      "outputs": [
        {
          "output_type": "execute_result",
          "data": {
            "text/plain": [
              "True"
            ]
          },
          "metadata": {
            "tags": []
          },
          "execution_count": 11
        }
      ]
    },
    {
      "cell_type": "code",
      "metadata": {
        "id": "QfAb4dDNJiad",
        "colab_type": "code",
        "colab": {}
      },
      "source": [
        "#Get the article\n",
        "article = Article('https://www.mayoclinic.org/diseases-conditions/chronic-kidney-disease/symptoms-causes/syc-20354521')\n",
        "article.download()\n",
        "article.parse()\n",
        "article.nlp()\n",
        "corpus = article.text\n"
      ],
      "execution_count": null,
      "outputs": []
    },
    {
      "cell_type": "code",
      "metadata": {
        "id": "c-eWzTGnKVTy",
        "colab_type": "code",
        "colab": {
          "base_uri": "https://localhost:8080/",
          "height": 1000
        },
        "outputId": "2f50d901-b1d6-43d9-aba5-d1b8ac265bef"
      },
      "source": [
        "#Print the article\n",
        "print(corpus)"
      ],
      "execution_count": null,
      "outputs": [
        {
          "output_type": "stream",
          "text": [
            "Overview\n",
            "\n",
            "Chronic kidney disease, also called chronic kidney failure, describes the gradual loss of kidney function. Your kidneys filter wastes and excess fluids from your blood, which are then excreted in your urine. When chronic kidney disease reaches an advanced stage, dangerous levels of fluid, electrolytes and wastes can build up in your body.\n",
            "\n",
            "In the early stages of chronic kidney disease, you may have few signs or symptoms. Chronic kidney disease may not become apparent until your kidney function is significantly impaired.\n",
            "\n",
            "Treatment for chronic kidney disease focuses on slowing the progression of the kidney damage, usually by controlling the underlying cause. Chronic kidney disease can progress to end-stage kidney failure, which is fatal without artificial filtering (dialysis) or a kidney transplant.\n",
            "\n",
            "Chronic kidney disease care at Mayo Clinic\n",
            "\n",
            "How kidneys work\n",
            "\n",
            "Symptoms\n",
            "\n",
            "Signs and symptoms of chronic kidney disease develop over time if kidney damage progresses slowly. Signs and symptoms of kidney disease may include:\n",
            "\n",
            "Nausea\n",
            "\n",
            "Vomiting\n",
            "\n",
            "Loss of appetite\n",
            "\n",
            "Fatigue and weakness\n",
            "\n",
            "Sleep problems\n",
            "\n",
            "Changes in how much you urinate\n",
            "\n",
            "Decreased mental sharpness\n",
            "\n",
            "Muscle twitches and cramps\n",
            "\n",
            "Swelling of feet and ankles\n",
            "\n",
            "Persistent itching\n",
            "\n",
            "Chest pain, if fluid builds up around the lining of the heart\n",
            "\n",
            "Shortness of breath, if fluid builds up in the lungs\n",
            "\n",
            "High blood pressure (hypertension) that's difficult to control\n",
            "\n",
            "Signs and symptoms of kidney disease are often nonspecific, meaning they can also be caused by other illnesses. Because your kidneys are highly adaptable and able to compensate for lost function, signs and symptoms may not appear until irreversible damage has occurred.\n",
            "\n",
            "When to see a doctor\n",
            "\n",
            "Make an appointment with your doctor if you have any signs or symptoms of kidney disease.\n",
            "\n",
            "If you have a medical condition that increases your risk of kidney disease, your doctor is likely to monitor your blood pressure and kidney function with urine and blood tests during regular office visits. Ask your doctor whether these tests are necessary for you.\n",
            "\n",
            "Causes\n",
            "\n",
            "Normal kidney vs. diseased kidney Open pop-up dialog box Close Normal kidney vs. diseased kidney Normal kidney vs. diseased kidney A normal kidney has about 1 million filtering units. Each unit, called a glomerulus, connects to a tubule, which collects urine. Conditions such as high blood pressure and diabetes take a toll on kidney function by damaging these filtering units and collecting tubules and causing scarring.\n",
            "\n",
            "Polycystic kidney Open pop-up dialog box Close Polycystic kidney Polycystic kidney A healthy kidney (left) eliminates waste from the blood and maintains the body's normal chemical balance. With polycystic kidney disease (right), fluid-filled sacs called cysts develop in the kidneys, causing them to grow larger and gradually lose their ability to function normally.\n",
            "\n",
            "Chronic kidney disease occurs when a disease or condition impairs kidney function, causing kidney damage to worsen over several months or years.\n",
            "\n",
            "Diseases and conditions that cause chronic kidney disease include:\n",
            "\n",
            "Type 1 or type 2 diabetes\n",
            "\n",
            "High blood pressure\n",
            "\n",
            "Glomerulonephritis (gloe-mer-u-low-nuh-FRY-tis), an inflammation of the kidney's filtering units (glomeruli)\n",
            "\n",
            "Interstitial nephritis (in-tur-STISH-ul nuh-FRY-tis), an inflammation of the kidney's tubules and surrounding structures\n",
            "\n",
            "Polycystic kidney disease\n",
            "\n",
            "Prolonged obstruction of the urinary tract, from conditions such as enlarged prostate, kidney stones and some cancers\n",
            "\n",
            "Vesicoureteral (ves-ih-koe-yoo-REE-tur-ul) reflux, a condition that causes urine to back up into your kidneys\n",
            "\n",
            "Recurrent kidney infection, also called pyelonephritis (pie-uh-low-nuh-FRY-tis)\n",
            "\n",
            "Risk factors\n",
            "\n",
            "Factors that may increase your risk of chronic kidney disease include:\n",
            "\n",
            "Diabetes\n",
            "\n",
            "High blood pressure\n",
            "\n",
            "Heart and blood vessel (cardiovascular) disease\n",
            "\n",
            "Smoking\n",
            "\n",
            "Obesity\n",
            "\n",
            "Being African-American, Native American or Asian-American\n",
            "\n",
            "Family history of kidney disease\n",
            "\n",
            "Abnormal kidney structure\n",
            "\n",
            "Older age\n",
            "\n",
            "Complications\n",
            "\n",
            "Chronic kidney disease can affect almost every part of your body. Potential complications may include:\n",
            "\n",
            "Fluid retention, which could lead to swelling in your arms and legs, high blood pressure, or fluid in your lungs (pulmonary edema)\n",
            "\n",
            "A sudden rise in potassium levels in your blood (hyperkalemia), which could impair your heart's ability to function and may be life-threatening\n",
            "\n",
            "Heart and blood vessel (cardiovascular) disease\n",
            "\n",
            "Weak bones and an increased risk of bone fractures\n",
            "\n",
            "Anemia\n",
            "\n",
            "Decreased sex drive, erectile dysfunction or reduced fertility\n",
            "\n",
            "Damage to your central nervous system, which can cause difficulty concentrating, personality changes or seizures\n",
            "\n",
            "Decreased immune response, which makes you more vulnerable to infection\n",
            "\n",
            "Pericarditis, an inflammation of the saclike membrane that envelops your heart (pericardium)\n",
            "\n",
            "Pregnancy complications that carry risks for the mother and the developing fetus\n",
            "\n",
            "Irreversible damage to your kidneys (end-stage kidney disease), eventually requiring either dialysis or a kidney transplant for survival\n",
            "\n",
            "Prevention\n",
            "\n",
            "To reduce your risk of developing kidney disease:\n"
          ],
          "name": "stdout"
        }
      ]
    },
    {
      "cell_type": "code",
      "metadata": {
        "id": "OzksXW18K56s",
        "colab_type": "code",
        "colab": {}
      },
      "source": [
        "#Tokenization\n",
        "text = corpus\n",
        "sentence_list = nltk.sent_tokenize(text)# A list of sentence\n"
      ],
      "execution_count": null,
      "outputs": []
    },
    {
      "cell_type": "code",
      "metadata": {
        "id": "HUW5gm01LO1Q",
        "colab_type": "code",
        "colab": {
          "base_uri": "https://localhost:8080/",
          "height": 54
        },
        "outputId": "5998578e-4196-48c3-835f-6ceb12970124"
      },
      "source": [
        "#print the list of sentence\n",
        "print(sentence_list)"
      ],
      "execution_count": null,
      "outputs": [
        {
          "output_type": "stream",
          "text": [
            "['Overview\\n\\nChronic kidney disease, also called chronic kidney failure, describes the gradual loss of kidney function.', 'Your kidneys filter wastes and excess fluids from your blood, which are then excreted in your urine.', 'When chronic kidney disease reaches an advanced stage, dangerous levels of fluid, electrolytes and wastes can build up in your body.', 'In the early stages of chronic kidney disease, you may have few signs or symptoms.', 'Chronic kidney disease may not become apparent until your kidney function is significantly impaired.', 'Treatment for chronic kidney disease focuses on slowing the progression of the kidney damage, usually by controlling the underlying cause.', 'Chronic kidney disease can progress to end-stage kidney failure, which is fatal without artificial filtering (dialysis) or a kidney transplant.', 'Chronic kidney disease care at Mayo Clinic\\n\\nHow kidneys work\\n\\nSymptoms\\n\\nSigns and symptoms of chronic kidney disease develop over time if kidney damage progresses slowly.', \"Signs and symptoms of kidney disease may include:\\n\\nNausea\\n\\nVomiting\\n\\nLoss of appetite\\n\\nFatigue and weakness\\n\\nSleep problems\\n\\nChanges in how much you urinate\\n\\nDecreased mental sharpness\\n\\nMuscle twitches and cramps\\n\\nSwelling of feet and ankles\\n\\nPersistent itching\\n\\nChest pain, if fluid builds up around the lining of the heart\\n\\nShortness of breath, if fluid builds up in the lungs\\n\\nHigh blood pressure (hypertension) that's difficult to control\\n\\nSigns and symptoms of kidney disease are often nonspecific, meaning they can also be caused by other illnesses.\", 'Because your kidneys are highly adaptable and able to compensate for lost function, signs and symptoms may not appear until irreversible damage has occurred.', 'When to see a doctor\\n\\nMake an appointment with your doctor if you have any signs or symptoms of kidney disease.', 'If you have a medical condition that increases your risk of kidney disease, your doctor is likely to monitor your blood pressure and kidney function with urine and blood tests during regular office visits.', 'Ask your doctor whether these tests are necessary for you.', 'Causes\\n\\nNormal kidney vs. diseased kidney Open pop-up dialog box Close Normal kidney vs. diseased kidney Normal kidney vs. diseased kidney A normal kidney has about 1 million filtering units.', 'Each unit, called a glomerulus, connects to a tubule, which collects urine.', 'Conditions such as high blood pressure and diabetes take a toll on kidney function by damaging these filtering units and collecting tubules and causing scarring.', \"Polycystic kidney Open pop-up dialog box Close Polycystic kidney Polycystic kidney A healthy kidney (left) eliminates waste from the blood and maintains the body's normal chemical balance.\", 'With polycystic kidney disease (right), fluid-filled sacs called cysts develop in the kidneys, causing them to grow larger and gradually lose their ability to function normally.', 'Chronic kidney disease occurs when a disease or condition impairs kidney function, causing kidney damage to worsen over several months or years.', \"Diseases and conditions that cause chronic kidney disease include:\\n\\nType 1 or type 2 diabetes\\n\\nHigh blood pressure\\n\\nGlomerulonephritis (gloe-mer-u-low-nuh-FRY-tis), an inflammation of the kidney's filtering units (glomeruli)\\n\\nInterstitial nephritis (in-tur-STISH-ul nuh-FRY-tis), an inflammation of the kidney's tubules and surrounding structures\\n\\nPolycystic kidney disease\\n\\nProlonged obstruction of the urinary tract, from conditions such as enlarged prostate, kidney stones and some cancers\\n\\nVesicoureteral (ves-ih-koe-yoo-REE-tur-ul) reflux, a condition that causes urine to back up into your kidneys\\n\\nRecurrent kidney infection, also called pyelonephritis (pie-uh-low-nuh-FRY-tis)\\n\\nRisk factors\\n\\nFactors that may increase your risk of chronic kidney disease include:\\n\\nDiabetes\\n\\nHigh blood pressure\\n\\nHeart and blood vessel (cardiovascular) disease\\n\\nSmoking\\n\\nObesity\\n\\nBeing African-American, Native American or Asian-American\\n\\nFamily history of kidney disease\\n\\nAbnormal kidney structure\\n\\nOlder age\\n\\nComplications\\n\\nChronic kidney disease can affect almost every part of your body.\", \"Potential complications may include:\\n\\nFluid retention, which could lead to swelling in your arms and legs, high blood pressure, or fluid in your lungs (pulmonary edema)\\n\\nA sudden rise in potassium levels in your blood (hyperkalemia), which could impair your heart's ability to function and may be life-threatening\\n\\nHeart and blood vessel (cardiovascular) disease\\n\\nWeak bones and an increased risk of bone fractures\\n\\nAnemia\\n\\nDecreased sex drive, erectile dysfunction or reduced fertility\\n\\nDamage to your central nervous system, which can cause difficulty concentrating, personality changes or seizures\\n\\nDecreased immune response, which makes you more vulnerable to infection\\n\\nPericarditis, an inflammation of the saclike membrane that envelops your heart (pericardium)\\n\\nPregnancy complications that carry risks for the mother and the developing fetus\\n\\nIrreversible damage to your kidneys (end-stage kidney disease), eventually requiring either dialysis or a kidney transplant for survival\\n\\nPrevention\\n\\nTo reduce your risk of developing kidney disease:\"]\n"
          ],
          "name": "stdout"
        }
      ]
    },
    {
      "cell_type": "code",
      "metadata": {
        "id": "vf_sMQb8LYaG",
        "colab_type": "code",
        "colab": {}
      },
      "source": [
        "#A function to return greeting response to a nurse greeting\n",
        "def greeting_response(text):\n",
        "  text = text.lower\n",
        "\n",
        "  #Bots greeting response\n",
        "  bot_greetings = ['howdy','hallo','hi','mambo']\n",
        "  #user greetings \n",
        "  user_greetings = ['Hi','Hae','wassup','poa']\n",
        "\n",
        "  for word in text.split():\n",
        "    if word in user_greetings:\n",
        "      return random.choice(bot_greetings)"
      ],
      "execution_count": null,
      "outputs": []
    },
    {
      "cell_type": "code",
      "metadata": {
        "id": "uofSiouSOGyL",
        "colab_type": "code",
        "colab": {}
      },
      "source": [
        "def index_sort(list_var):\n",
        "  length = len(list_var)\n",
        "  list_index = list(range(0, length))\n",
        "\n",
        "  x = list_var\n",
        "  for i in range(length):\n",
        "    if x[list_index[i]] > x[list_index[j]]:\n",
        "      #swap\n",
        "      temp = list_index[i]\n",
        "      list_index[i] = list_index[j]\n",
        "      list_index[j] = temp\n",
        "\n",
        "  return list_index"
      ],
      "execution_count": null,
      "outputs": []
    },
    {
      "cell_type": "code",
      "metadata": {
        "id": "LO4Ruzo4MnZJ",
        "colab_type": "code",
        "colab": {}
      },
      "source": [
        "#create the bot response\n",
        "def bot_response(user_input):\n",
        "  user_input = user_input.lower()\n",
        "  sentence_list.append(user_input)\n",
        "  bot_response = ''\n",
        "  cm = CountVectorizer().fit_transform(sentence_list)\n",
        "  similarity_scores = cosine_similarity(cm[-1], cm)\n",
        "  similarity_scores_list = similarity_scores.flatten()\n",
        "  index = index_sort(similarity_scores_list)\n",
        "  index = index[1:]\n",
        "  response_flag = 0\n",
        "\n",
        "  j= 0\n",
        "  for i in range(len(index)):\n",
        "    if similarity_scores_list[index[i]] > 0.0:\n",
        "     bot_response = bot_response+ '' +sentence_list[index[i]]\n",
        "     response_flag = 1\n",
        "     j = j+1\n",
        "    if j > 2:\n",
        "     break\n",
        "    \n",
        "    \n",
        "    if response_flag ==0:\n",
        "      bot_response = bot_response+ ''+\"I apologize, I dont Understand.\"\n",
        "      \n",
        "      \n",
        "      sentence_list.remove(user_input)\n",
        "\n",
        "\n",
        "  return bot_response"
      ],
      "execution_count": null,
      "outputs": []
    },
    {
      "cell_type": "code",
      "metadata": {
        "id": "NocBCTDsPtVp",
        "colab_type": "code",
        "colab": {
          "base_uri": "https://localhost:8080/",
          "height": 130
        },
        "outputId": "6ef31b45-1da0-4d7a-94ea-b7e0be85deb3"
      },
      "source": [
        " #Start the chat\n",
        " print('I am Doctor bot or Bot for short. I will answer your queries about chronic Kidney Disease. If you want to exit type Bye')\n",
        " \n",
        " exit_list = ['exit','see you later','bye','break']\n",
        "\n",
        " while(True):\n",
        "   user_input = input()\n",
        "   if user_input.lower() in exit_list:\n",
        "     print('Doc Bot: Chat with you later!')\n",
        "     break\n",
        "     else:\n",
        "       if greeting_response(user_input) != None:\n",
        "        print('Doc Bot: '+greeting_response(user_input))\n",
        "      else:\n",
        "        print('Doc Bot: '+bot_response(user_input))"
      ],
      "execution_count": 5,
      "outputs": [
        {
          "output_type": "error",
          "ename": "SyntaxError",
          "evalue": "ignored",
          "traceback": [
            "\u001b[0;36m  File \u001b[0;32m\"<ipython-input-5-0af97c5bfca2>\"\u001b[0;36m, line \u001b[0;32m11\u001b[0m\n\u001b[0;31m    else:\u001b[0m\n\u001b[0m       ^\u001b[0m\n\u001b[0;31mSyntaxError\u001b[0m\u001b[0;31m:\u001b[0m invalid syntax\n"
          ]
        }
      ]
    },
    {
      "cell_type": "code",
      "metadata": {
        "id": "-vn6fvxak49A",
        "colab_type": "code",
        "colab": {}
      },
      "source": [
        ""
      ],
      "execution_count": null,
      "outputs": []
    }
  ]
}